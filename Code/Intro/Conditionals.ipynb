{
 "cells": [
  {
   "cell_type": "markdown",
   "metadata": {},
   "source": [
    "<center><u><H1>if, elif, else </H1></u></center>"
   ]
  },
  {
   "cell_type": "markdown",
   "metadata": {},
   "source": [
    "Decisions when the program has more than one choice of actions depending on a variable's value. Think of the decision to take an umbrella. If it rains, we take the umbrella. If it is sunny, we don't. These are logical decisions that depend on the state of the nature. "
   ]
  },
  {
   "cell_type": "code",
   "execution_count": 1,
   "metadata": {},
   "outputs": [],
   "source": [
    "typeFlower=\"tulip\"\n",
    "priceFlower=10"
   ]
  },
  {
   "cell_type": "markdown",
   "metadata": {},
   "source": [
    "### if statement\n",
    "An if statement could be read as, “If this condition is true, execute the code in the clause.” In Python, an if statement consists of the following:\n",
    "\n",
    "- The if keyword\n",
    "\n",
    "- A condition (that is, an expression that evaluates to True or False)\n",
    "\n",
    "- A colon\n",
    "\n",
    "- Starting on the next line, an indented block of code (called the if clause)"
   ]
  },
  {
   "cell_type": "markdown",
   "metadata": {},
   "source": [
    "We check if a condition is true with `==` which asks whether two values are the same as each other. This is different from assignment operator which only has one `=` that puts the value on the right into the variable on the left."
   ]
  },
  {
   "cell_type": "code",
   "execution_count": 2,
   "metadata": {},
   "outputs": [
    {
     "name": "stdout",
     "output_type": "stream",
     "text": [
      "Yay\n"
     ]
    }
   ],
   "source": [
    "if priceFlower==10:\n",
    "    print(\"Yay\")"
   ]
  },
  {
   "cell_type": "markdown",
   "metadata": {},
   "source": [
    "### else statement\n",
    "An if statement can be followed by an else statement. The else clause is executed only when the if statement’s condition is False. An else statement could be read as, “If this condition is true, execute this code. Or else, execute that code.” An else statement doesn’t have a condition, and in code, an else statement always consists of the following:\n",
    "\n",
    "- The else keyword\n",
    "\n",
    "- A colon\n",
    "\n",
    "- Starting on the next line, an indented block of code (called the else clause)"
   ]
  },
  {
   "cell_type": "code",
   "execution_count": 3,
   "metadata": {},
   "outputs": [
    {
     "name": "stdout",
     "output_type": "stream",
     "text": [
      "Yay\n"
     ]
    }
   ],
   "source": [
    "if priceFlower>9:\n",
    "    print(\"Yay\")\n",
    "else:\n",
    "    print (\"Nay\")"
   ]
  },
  {
   "cell_type": "markdown",
   "metadata": {},
   "source": [
    "Indentation tells Python that the print function depends on the if or else condition."
   ]
  },
  {
   "cell_type": "code",
   "execution_count": 4,
   "metadata": {},
   "outputs": [
    {
     "name": "stdout",
     "output_type": "stream",
     "text": [
      "Yay!!\n",
      "End program\n"
     ]
    }
   ],
   "source": [
    "var1=\"flower\"\n",
    "var2=\"FLOWER\".lower()\n",
    "if var2==var1:\n",
    "    print (\"Yay!!\")\n",
    "else:\n",
    "    print (\"Words did not match\")\n",
    "\n",
    "print (\"End program\")"
   ]
  },
  {
   "cell_type": "markdown",
   "metadata": {},
   "source": [
    "The last print never enters the loop (it's not dependent of the if/else statements)."
   ]
  },
  {
   "cell_type": "markdown",
   "metadata": {},
   "source": [
    "### elif Statement\n",
    "\n",
    "While only one of the if or else clauses will execute, you may have a case where you want one of many possible clauses to execute. The elif statement is an “else if” statement that always follows an if or another elif statement. It provides another condition that is checked only if all of the previous conditions were False. In code, an elif statement always consists of the following:\n",
    "\n",
    "- The elif keyword\n",
    "\n",
    "- A condition (that is, an expression that evaluates to True or False)\n",
    "\n",
    "- A colon\n",
    "\n",
    "- Starting on the next line, an indented block of code (called the elif clause)"
   ]
  },
  {
   "cell_type": "code",
   "execution_count": 5,
   "metadata": {},
   "outputs": [
    {
     "name": "stdout",
     "output_type": "stream",
     "text": [
      "yay\n"
     ]
    }
   ],
   "source": [
    "if typeFlower==\"TULIP\".lower() and priceFlower==10:\n",
    "    print (\"yay\")  \n",
    "elif typeFlower==\"rose\":\n",
    "    print (\"Nay\")   \n",
    "else:\n",
    "    print (\"not even close\")"
   ]
  },
  {
   "cell_type": "markdown",
   "metadata": {},
   "source": [
    "### Challenge: Write some conditions that print True if the variable a is within 10% of the variable b and False otherwise. Compare your implementation with your partner’s: do you get the same answer for all possible pairs of numbers?"
   ]
  },
  {
   "cell_type": "markdown",
   "metadata": {},
   "source": [
    "### References\n",
    "https://automatetheboringstuff.com/chapter2/\n",
    "\n",
    "https://swcarpentry.github.io/python-novice-inflammation/05-cond/index.html"
   ]
  }
 ],
 "metadata": {
  "kernelspec": {
   "display_name": "Python 3",
   "language": "python",
   "name": "python3"
  },
  "language_info": {
   "codemirror_mode": {
    "name": "ipython",
    "version": 3
   },
   "file_extension": ".py",
   "mimetype": "text/x-python",
   "name": "python",
   "nbconvert_exporter": "python",
   "pygments_lexer": "ipython3",
   "version": "3.7.7"
  }
 },
 "nbformat": 4,
 "nbformat_minor": 2
}
